{
  "nbformat": 4,
  "nbformat_minor": 0,
  "metadata": {
    "colab": {
      "provenance": [],
      "collapsed_sections": [
        "mGkJbBK_-iz0",
        "-THdLt0wjQiS"
      ],
      "include_colab_link": true
    },
    "kernelspec": {
      "name": "python3",
      "display_name": "Python 3"
    },
    "language_info": {
      "name": "python"
    }
  },
  "cells": [
    {
      "cell_type": "markdown",
      "metadata": {
        "id": "view-in-github",
        "colab_type": "text"
      },
      "source": [
        "<a href=\"https://colab.research.google.com/github/cemgurbey/sleep-log-data-analysis/blob/main/Sleep_Log_Data_Analysis_Tool.ipynb\" target=\"_parent\"><img src=\"https://colab.research.google.com/assets/colab-badge.svg\" alt=\"Open In Colab\"/></a>"
      ]
    },
    {
      "cell_type": "markdown",
      "source": [
        "# Sleep Log Data Analysis Tool"
      ],
      "metadata": {
        "id": "-4JR6fgvkVB6"
      }
    },
    {
      "cell_type": "markdown",
      "source": [
        "## How to use it"
      ],
      "metadata": {
        "id": "iNMt6NQck8EC"
      }
    },
    {
      "cell_type": "markdown",
      "source": [
        "1. Click on the files icon on the left, then click on the upload icon to upload sleeplog data.\n",
        "2. Please check the name of the files that you uploaded contains the words *morning* and *evening*.\n",
        "3. Please verify that the column letters for the survey responses are matching in the section below.\n",
        "4. Click on `Runtime` on the menu bar and click `Run all`.\n",
        "5. Click on the refresh button on the Files tab and the desired output files will appear. You can download them by right clicking on the files.\n",
        "\n",
        "Notes: \n",
        "- The files will be deleted on everytime you close the browser so make sure to save the output file on your device.\n",
        "- If you Add new questions to the surveys or change the outline of the spreadsheet, please adjust the column letters below."
      ],
      "metadata": {
        "id": "069NOf0Heow6"
      }
    },
    {
      "cell_type": "code",
      "source": [
        "MORNING_PARTICIPANT_NUMBER_COLUMN_LETTER = 'J'\n",
        "EVENING_PARTICIPANT_NUMBER_COLUMN_LETTER = 'J'\n",
        "MORNING_DATE_COLUMN_LETTER = 'K'\n",
        "EVENING_DATE_COLUMN_LETTER = 'K'\n",
        "BEDTIME_COLUMN_LETTER = 'N'\n",
        "WOKETIME_COLUMN_LETTER = 'O'\n",
        "OUT_BED_COLUMN_LETTER = 'P'\n",
        "IN_BED_COLUMN_LETTER = 'L'\n",
        "START_SCHOOL_COLUMN_LETTER = 'O'\n",
        "FINISH_SCHOOL_COLUMN_LETTER = 'Q'\n",
        "GET_HOME_COLUMN_LETTER = 'S'\n"
      ],
      "metadata": {
        "id": "Z1JWfXsaXmAF"
      },
      "execution_count": 1,
      "outputs": []
    },
    {
      "cell_type": "markdown",
      "source": [
        "## Software and Explanations\n"
      ],
      "metadata": {
        "id": "D89xKNOmT8fM"
      }
    },
    {
      "cell_type": "markdown",
      "source": [
        "\n",
        "### 1. Import necessary libraries for the software"
      ],
      "metadata": {
        "id": "RoYT8TP1iZxG"
      }
    },
    {
      "cell_type": "code",
      "execution_count": 2,
      "metadata": {
        "id": "dp4yGe11Tqmb"
      },
      "outputs": [],
      "source": [
        "import pandas as pd\n",
        "import numpy as np\n",
        "import datetime as dt\n",
        "from datetime import datetime, date, timedelta\n",
        "from statistics import stdev\n",
        "from os import listdir\n",
        "from google.colab import drive, files"
      ]
    },
    {
      "cell_type": "markdown",
      "source": [
        "### 2. Adjust settings:\n"
      ],
      "metadata": {
        "id": "5JXA1rV3-Oyl"
      }
    },
    {
      "cell_type": "markdown",
      "source": [
        "- Display all the columns\n",
        "- Use Google Drive (Optional)\n",
        "- Retrieve morning and evening data filenames"
      ],
      "metadata": {
        "id": "BjziXxfYlFc1"
      }
    },
    {
      "cell_type": "code",
      "source": [
        "pd.set_option('display.max_columns', None)\n",
        "pd.set_option('display.max_rows', None)\n",
        "# drive.mount('/content/drive')"
      ],
      "metadata": {
        "id": "ktiaLOJTfEXf",
        "colab": {
          "base_uri": "https://localhost:8080/"
        },
        "outputId": "82440c39-3a2f-49ca-a690-3e534db32861"
      },
      "execution_count": 5,
      "outputs": [
        {
          "output_type": "stream",
          "name": "stdout",
          "text": [
            "Mounted at /content/drive\n"
          ]
        }
      ]
    },
    {
      "cell_type": "code",
      "source": [
        "# gets the full file names from directory\n",
        "for filename in listdir():\n",
        "    if \"morning\" in filename.lower():\n",
        "        MORNING_DATA_FILENAME = filename\n",
        "    if \"evening\" in filename.lower():\n",
        "        EVENING_DATA_FILENAME = filename"
      ],
      "metadata": {
        "id": "9BH9WTZ_K_3W"
      },
      "execution_count": 6,
      "outputs": []
    },
    {
      "cell_type": "markdown",
      "source": [
        "### 3. Optional Google Drive Integration or Manual Entry of the Filename"
      ],
      "metadata": {
        "id": "mGkJbBK_-iz0"
      }
    },
    {
      "cell_type": "code",
      "source": [
        "# WRITE YOUR FILENAMES HERE\n",
        "\n",
        "# If you are using Google Drive, enter the full path of the filename after /content/drive/My Drive/\n",
        "# MORNING_DATA_FILENAME = '/content/drive/My Drive/Douglas Research/Sleep and Activity Log - Morning.xlsx'\n",
        "# EVENING_DATA_FILENAME = '/content/drive/My Drive/Douglas Research/Sleep and Activity Log - EVENING.xlsx'"
      ],
      "metadata": {
        "id": "SQIvFMoPUGVV"
      },
      "execution_count": 8,
      "outputs": []
    },
    {
      "cell_type": "markdown",
      "source": [
        "### 4. TODO"
      ],
      "metadata": {
        "id": "zgyQmy81kbkE"
      }
    },
    {
      "cell_type": "code",
      "source": [
        "def excel_column_number(name):\n",
        "    \"\"\"Excel-style column name to number, e.g., A = 1, Z = 26, AA = 27, AAA = 703.\"\"\"\n",
        "    n = 0\n",
        "    for c in name:\n",
        "        n = n * 26 + ord(c) - ord('A')\n",
        "    return n"
      ],
      "metadata": {
        "id": "NTdrWjLbtZUV"
      },
      "execution_count": 9,
      "outputs": []
    },
    {
      "cell_type": "code",
      "source": [
        "# Calculates length of an event relative to 12:00 PM\n",
        "def time_diff(x):\n",
        "    if str(x) == 'NaT':\n",
        "        return dt.timedelta(0)\n",
        "\n",
        "\n",
        "    if datetime.combine(date.min, x) > datetime.combine(date.min, dt.time(12)):\n",
        "        return pd.to_timedelta(datetime.combine(date.min, x) - datetime.combine(date.min, dt.time(12)))\n",
        "    \n",
        "    return datetime.combine(date.min, x) - datetime.combine(date.min, dt.time(0)) + dt.timedelta(hours=12)"
      ],
      "metadata": {
        "id": "mJ90p-zUZj6j"
      },
      "execution_count": 51,
      "outputs": []
    },
    {
      "cell_type": "code",
      "source": [
        "def add_fields(df, columns, keyword):\n",
        "    total = 0\n",
        "    transposed_df = df.iloc[:, columns].transpose()\n",
        "    transposed_df.dropna(axis=1, inplace=True)\n",
        "\n",
        "    for day in transposed_df.columns:\n",
        "        total += transposed_df[transposed_df[day] == keyword].shape[0]\n",
        "    return total\n"
      ],
      "metadata": {
        "id": "N4lYg7ABPTFT"
      },
      "execution_count": 11,
      "outputs": []
    },
    {
      "cell_type": "code",
      "source": [
        "def incosistent_time_format_helper(time_str):\n",
        "    if type(time_str) == type(\"str\"):\n",
        "        if time_str[-2:].upper() in ['AM', 'PM']:\n",
        "            if time_str[:2].isnumeric() and int(time_str[:2]) > 12:\n",
        "                return datetime.strptime(time_str[:5],'%H:%M').time()\n",
        "            elif time_str[:2].isnumeric() and time_str[3:5].isnumeric() and time_str[2] == ':':\n",
        "                return datetime.strptime(time_str,'%I:%M %p').time()\n",
        "            elif time_str[0].isnumeric() and time_str[2].isnumeric() and time_str[1] == ':':\n",
        "                h = '12' if int(time_str[0]) == 0 else '0'+time_str[0]\n",
        "                m = '0'+time_str[2]\n",
        "                return datetime.strptime(h + ':' + m + \" AM\",'%I:%M %p').time()\n",
        "            else:\n",
        "                np.datetime64('NaT')\n",
        "\n",
        "        else:\n",
        "            return datetime.strptime(time_str,'%H:%M').time()\n",
        "\n",
        "\n",
        "\n",
        "\n",
        "    return np.datetime64('NaT')\n"
      ],
      "metadata": {
        "id": "Z7YfbrzOvN5Z"
      },
      "execution_count": 66,
      "outputs": []
    },
    {
      "cell_type": "code",
      "source": [
        "def get_report(df, column, operation_type, days_type):\n",
        "    mapping = {}\n",
        "    mapping['WEEK'] = df[df['Day_Of_Week'] < 4]\n",
        "    mapping['WEEKEND'] = df[df['Day_Of_Week'] >= 4]\n",
        "    mapping['WEEKWITHSUNDNIGHT'] = df[(df['Day_Of_Week'] < 4) | (df['Day_Of_Week'] == 6)]\n",
        "    mapping['WEEKENDWOSUNDNIGHT'] = df[(df['Day_Of_Week'] >= 4) & (df['Day_Of_Week'] != 6)]\n",
        "    mapping['TOTAL'] = df\n",
        "\n",
        "    if mapping[days_type].shape[0] > 0:\n",
        "        if operation_type == 'AVERAGE':\n",
        "            return str(datetime.combine(date.min, dt.time(12)) + mapping[days_type][df.columns[column]].apply(time_diff).mean())[11:19]\n",
        "        if operation_type == 'SD':\n",
        "            return str(datetime.combine(date.min, dt.time(12)) + mapping[days_type][df.columns[WOKETIME_COLUMN]].apply(time_diff).std() - dt.timedelta(hours=12))[11:19]\n",
        "\n",
        "    return 'NaT'"
      ],
      "metadata": {
        "id": "PSYqGFY43ibu"
      },
      "execution_count": 55,
      "outputs": []
    },
    {
      "cell_type": "code",
      "source": [
        "#convert line letters to line numbers\n",
        "MORNING_PARTICIPANT_NUMBER_COLUMN = excel_column_number(MORNING_PARTICIPANT_NUMBER_COLUMN_LETTER)\n",
        "EVENING_PARTICIPANT_NUMBER_COLUMN = excel_column_number(EVENING_PARTICIPANT_NUMBER_COLUMN_LETTER)\n",
        "BEDTIME_COLUMN = excel_column_number(BEDTIME_COLUMN_LETTER)\n",
        "WOKETIME_COLUMN = excel_column_number(WOKETIME_COLUMN_LETTER)\n",
        "OUT_BED_COLUMN = excel_column_number(OUT_BED_COLUMN_LETTER)\n",
        "IN_BED_COLUMN = excel_column_number(IN_BED_COLUMN_LETTER)\n",
        "START_SCHOOL_COLUMN = excel_column_number(START_SCHOOL_COLUMN_LETTER)\n",
        "FINISH_SCHOOL_COLUMN = excel_column_number(FINISH_SCHOOL_COLUMN_LETTER)\n",
        "GET_HOME_COLUMN = excel_column_number(GET_HOME_COLUMN_LETTER)\n",
        "MORNING_DATE_COLUMN = excel_column_number(MORNING_DATE_COLUMN_LETTER)\n",
        "EVENING_DATE_COLUMN = excel_column_number(EVENING_DATE_COLUMN_LETTER)"
      ],
      "metadata": {
        "id": "RV96CGVwrp1g"
      },
      "execution_count": 56,
      "outputs": []
    },
    {
      "cell_type": "code",
      "source": [
        "# This section reads the excel sheet and preprocesses headers and time data\n",
        "\n",
        "df_morning = pd.read_excel(MORNING_DATA_FILENAME, header=[0,1])\n",
        "df_evening = pd.read_excel(EVENING_DATA_FILENAME, header=[0,1])\n",
        "\n",
        "# Remove the unnamed headers\n",
        "df_morning.columns = df_morning.columns.map(lambda x: ' '.join(x) if 'Unnamed' not in x[1] else x[0])\n",
        "df_evening.columns = df_evening.columns.map(lambda x: ' '.join(x) if 'Unnamed' not in x[1] else x[0])\n",
        "\n",
        "# Fill the empty lines\n",
        "df_morning[df_morning.columns[MORNING_PARTICIPANT_NUMBER_COLUMN]] = df_morning[df_morning.columns[MORNING_PARTICIPANT_NUMBER_COLUMN]].fillna(0.0).astype(int)\n",
        "df_evening[df_evening.columns[EVENING_PARTICIPANT_NUMBER_COLUMN]] = df_evening[df_evening.columns[EVENING_PARTICIPANT_NUMBER_COLUMN]].fillna(0.0).astype(int)\n",
        "\n",
        "# Drop empty columns (requires re-indexing)\n",
        "# df_morning.dropna(axis=1, how='all', inplace=True) \n",
        "# df_evening.dropna(axis=1, how='all', inplace=True) \n",
        "\n",
        "# The remaining of this block converts AM/PM time format to 24h format\n",
        "# Incorrect time signatures like 16:30 PM will be ignored\n",
        "df_morning[df_morning.columns[[IN_BED_COLUMN, BEDTIME_COLUMN, WOKETIME_COLUMN, OUT_BED_COLUMN]]] = df_morning[df_morning.columns[[IN_BED_COLUMN, BEDTIME_COLUMN, WOKETIME_COLUMN, OUT_BED_COLUMN]]].apply(lambda x: x.apply(lambda y: incosistent_time_format_helper(y)))\n",
        "                                                                                                  \n",
        "\n",
        "# df_evening[df_evening.columns[[IN_BED_COLUMN, BEDTIME_COLUMN]]] = df_evening[df_evening.columns[[IN_BED_COLUMN, BEDTIME_COLUMN]]].apply(lambda x: pd.to_datetime(x.astype(str)).dt.time)\n",
        "# ignore PMs for awake time and out bed time questions\n",
        "# df_evening[df_evening.columns[[WOKETIME_COLUMN, OUT_BED_COLUMN]]] = df_evening[df_evening.columns[[WOKETIME_COLUMN, OUT_BED_COLUMN]]].astype('string').apply(lambda x: x.apply(lambda y: datetime.strptime(y[:5],'%H:%M').time() if type(y) == type(\"str\") else np.datetime64('NaT')))\n",
        "df_evening[df_evening.columns[[START_SCHOOL_COLUMN, FINISH_SCHOOL_COLUMN, GET_HOME_COLUMN]]] = df_evening[df_evening.columns[[START_SCHOOL_COLUMN, FINISH_SCHOOL_COLUMN, GET_HOME_COLUMN]]].apply(lambda x: x.apply(lambda y: incosistent_time_format_helper(y)))"
      ],
      "metadata": {
        "id": "bZ026h7nUN49"
      },
      "execution_count": 67,
      "outputs": []
    },
    {
      "cell_type": "code",
      "source": [
        "grp_morning = df_morning.groupby(df_morning.columns[MORNING_PARTICIPANT_NUMBER_COLUMN]) #group by participant number of morning data\n",
        "grp_evening = df_evening.groupby(df_evening.columns[EVENING_PARTICIPANT_NUMBER_COLUMN]) #group by participant number of evening data"
      ],
      "metadata": {
        "id": "z_S_hbcWiItJ"
      },
      "execution_count": 68,
      "outputs": []
    },
    {
      "cell_type": "code",
      "source": [
        "columns = ['partcipant_number']\n",
        "mock_output = pd.DataFrame(columns=columns)\n",
        "\n",
        "#iterate through each participant\n",
        "for participant_number, df in grp_morning:\n",
        "\n",
        "    if participant_number == 0: # skip the rows that spaces out the participants\n",
        "        continue\n",
        "\n",
        "\n",
        "    df.dropna(axis=0, subset=[df.columns[0]], inplace=True)\n",
        "    temp_df = pd.DataFrame()\n",
        "    temp_df['Date'] = pd.to_datetime(df[df.columns[4]], format=\"%d/%m/%Y\")\n",
        "    temp_df['Day_Of_Week'] = temp_df['Date'].dt.dayofweek\n",
        "\n",
        "    SL_pre_weekdays_selfreport = temp_df[temp_df['Day_Of_Week'] < 4].shape[0]\n",
        "    SL_pre_weekends_selfreport = temp_df[temp_df['Day_Of_Week'] >= 4].shape[0]\n",
        "\n",
        "    light_exposure_total = 0\n",
        "    transposed_df = df.iloc[:, list(range(95,107))].transpose()\n",
        "    transposed_df.dropna(axis=1, inplace=True)\n",
        "\n",
        "    # for day in transposed_df.columns:\n",
        "    #     light_exposure_total += transposed_df[transposed_df[day] == 'LIGHTS TURNED ON'].shape[0]\n",
        "\n",
        "    light_exposure_total = add_fields(df, list(range(95, 107)), 'LIGHTS TURNED ON')\n",
        "\n",
        "    Average_lights_off_time_weeknights = temp_df[temp_df['Day_Of_Week'] < 4]\n",
        "    \n",
        "    light_exposure_avg = 0\n",
        "    if transposed_df.shape[1] != 0:\n",
        "        light_exposure_avg = light_exposure_total / transposed_df.shape[1]\n",
        "\n",
        "    # append the results of a participant to the output dataframe\n",
        "    mock_output.loc[mock_output.shape[0]] = [participant_number]\n"
      ],
      "metadata": {
        "id": "6dTtp5kHJ4Su"
      },
      "execution_count": 69,
      "outputs": []
    },
    {
      "cell_type": "code",
      "source": [
        "OPERATION_LIST = ['AVERAGE', 'SD']\n",
        "DAY_GROUPING_LIST = ['WEEK', 'WEEKEND', 'TOTAL', 'WEEKWITHSUNDNIGHT', 'WEEKENDWOSUNDNIGHT']\n",
        "BEDTIME_WOKETIME = ['BEDTIME', 'WOKETIME']\n",
        "IN_BED_OUT_BED = ['IN_BED', 'OUT_BED']\n",
        "\n",
        "columns = ['participant_number']\n",
        "\n",
        "for operation in OPERATION_LIST:\n",
        "    for day_grouping in DAY_GROUPING_LIST:\n",
        "        for measured_unit in BEDTIME_WOKETIME:\n",
        "            columns.append(f'SL_pre_{measured_unit}_{operation}_{day_grouping}_selfreport')\n",
        "\n",
        "for operation in ['AVERAGE', 'SD']:\n",
        "    for day_grouping in DAY_GROUPING_LIST:\n",
        "        for measured_unit in IN_BED_OUT_BED:\n",
        "            columns.append(f'SL_pre_{measured_unit}_{operation}_{day_grouping}_selfreport')\n",
        "\n",
        "\n",
        "mock_output = pd.DataFrame(columns=columns)\n",
        "mini_output = pd.DataFrame(columns=['partcipant_number', 'day', 'timedelta'])\n",
        "\n",
        "#iterate through each participant\n",
        "for participant_number, df in grp_morning:\n",
        "\n",
        "    if participant_number == 0: # skip the rows that spaces out the participants\n",
        "        continue\n",
        "\n",
        "\n",
        "    df.dropna(axis=0, subset=[df.columns[0]], inplace=True)\n",
        "\n",
        "    df['Date'] = pd.to_datetime(df[df.columns[EVENING_DATE_COLUMN]].astype('string'), format=\"%d/%m/%Y\")\n",
        "    df['Day_Of_Week'] = df['Date'].dt.dayofweek\n",
        "    SL_pre_weekdays_selfreport = df[df['Day_Of_Week'] < 4].shape[0]\n",
        "    SL_pre_weekends_selfreport = df[df['Day_Of_Week'] >= 4].shape[0]\n",
        "\n",
        "    light_exposure_total = 0\n",
        "    transposed_df = df.iloc[:, list(range(95,107))].transpose()\n",
        "    transposed_df.dropna(axis=1, inplace=True)\n",
        "\n",
        "    RESULT_LIST = [participant_number]\n",
        "\n",
        "    for operation in OPERATION_LIST:\n",
        "        for day_grouping in DAY_GROUPING_LIST:\n",
        "            for measured_unit in [BEDTIME_COLUMN, WOKETIME_COLUMN]:\n",
        "                RESULT_LIST.append(get_report(df, measured_unit, operation, day_grouping))\n",
        "\n",
        "    for operation in OPERATION_LIST:\n",
        "        for day_grouping in DAY_GROUPING_LIST:\n",
        "            for measured_unit in [IN_BED_COLUMN, OUT_BED_COLUMN]:\n",
        "                RESULT_LIST.append(get_report(df, measured_unit, operation, day_grouping))\n",
        "\n",
        "    # append the results of a participant to the output dataframe\n",
        "    mock_output.loc[mock_output.shape[0]] = RESULT_LIST\n"
      ],
      "metadata": {
        "id": "_hQQFXK8lNBL"
      },
      "execution_count": 70,
      "outputs": []
    },
    {
      "cell_type": "markdown",
      "source": [
        "####slx column names"
      ],
      "metadata": {
        "id": "-THdLt0wjQiS"
      }
    },
    {
      "cell_type": "code",
      "source": [
        "slx_daytime_column_names = [ \n",
        " 'SL_pre_weekdays_selfreport',\n",
        " 'SL_pre_weekends_selfreport',\n",
        " 'SLx_pre_sunrise_time',\n",
        " 'SLx_pre_sunset_time',\n",
        " 'SLx_pre_daylength',\n",
        " 'SLx_pre_sunlight',\n",
        " 'SLx_pre_moonphase',\n",
        " 'SLx_pre_moonlight',\n",
        " 'SLx_pre_Date_start',\n",
        " 'SLx_pre_Date_end',\n",
        " 'SLx_pre_Day',\n",
        " 'SLx_pre_BEDTIME_selfreport',\n",
        " 'SLx_pre_LIGHTSOFF_selfreport',\n",
        " 'SLx_pre_NAP_selfreport',\n",
        " 'SLx_pre_NAPTIME_selfreport',\n",
        " 'SLx_pre_NAP_START_selfreport',\n",
        " 'SLx_pre_NAP_END_selfreport',\n",
        " 'SLx_pre_NAPTIME2_selfreport',\n",
        " 'SLx_pre_NAP2_START_selfreport',\n",
        " 'SLx_pre_NAP2_END_selfreport',\n",
        " 'SLx_pre_NAP_other_selfreport',\n",
        " 'SLx_pre_ACTIVITIES_tv_selfreport',\n",
        " 'SLx_pre_ACTIVITIES_tv_duration',\n",
        " 'SLx_pre_ACTIVITIES_internet_selfreport',\n",
        " 'SLx_pre_ACTIVITIES_internet_duration',\n",
        " 'SLx_pre_ACTIVITIES_phone_selfreport',\n",
        " 'SLx_pre_ACTIVITIES_phone_duration',\n",
        " 'SLx_pre_ACTIVITIES_videogames_selfreport',\n",
        " 'SLx_pre_ACTIVITIES_videogames_duration',\n",
        " 'SLx_pre_ACTIVITIES_read_selfreport',\n",
        " 'SLx_pre_ACTIVITIES_read_duration',\n",
        " 'SLx_pre_ACTIVITIES_music_selfreport',\n",
        " 'SLx_pre_ACTIVITIES_music_duration',\n",
        " 'SLx_pre_ACTIVITIES_other_selfreport',\n",
        " 'SLx_pre_ACTIVITIES_other_duration',\n",
        " 'SLx_PRE_ACTIVITIES_other2_selfreport',\n",
        " 'SLx_PRE_ACTIVITIES_other2_duration',\n",
        " 'SLx_pre_WOKETIME_selfreport',\n",
        " 'SLx_pre_GETUP_selfreport',\n",
        " 'SLx_pre_SCHOOL_ATTEND',\n",
        " 'SLx_pre_SCHOOL_START',\n",
        " 'SLx_pre_SCHOOL_END',\n",
        " 'SLx_pre_HOME_ARRIVAL',\n",
        " 'SLx_pre_PHONE_12_1am',\n",
        " 'SLx_pre_COMPUTER_12_1am',\n",
        " 'SLx_pre_TABLET_12_1am',\n",
        " 'SLx_pre_VIDGAMES_12_1am',\n",
        " 'SLx_pre_PHONE_1_2am',\n",
        " 'SLx_pre_COMPUTER_1_2am',\n",
        " 'SLx_pre_TABLET_1_2am',\n",
        " 'SLx_pre_VIDGAMES_1_2am',\n",
        " 'SLx_pre_PHONE_2_3am',\n",
        " 'SLx_pre_COMPUTER_2_3am',\n",
        " 'SLx_pre_TABLET_2_3am',\n",
        " 'SLx_pre_VIDGAMES_2_3am',\n",
        " 'SLx_pre_PHONE_3_4am',\n",
        " 'SLx_pre_COMPUTER_3_4am',\n",
        " 'SLx_pre_TABLET_3_4am',\n",
        " 'SLx_pre_VIDGAMES_3_4am',\n",
        " 'SLx_pre_PHONE_4_5am',\n",
        " 'SLx_pre_COMPUTER_4_5am',\n",
        " 'SLx_pre_TABLET_4_5am',\n",
        " 'SLx_pre_VIDGAMES_4_5am',\n",
        " 'SLx_pre_PHONE_5_6am',\n",
        " 'SLx_pre_COMPUTER_5_6am',\n",
        " 'SLx_pre_TABLET_5_6am',\n",
        " 'SLx_pre_VIDGAMES_5_6am',\n",
        " 'SLx_pre_PHONE_6_7am',\n",
        " 'SLx_pre_COMPUTER_6_7am',\n",
        " 'SLx_pre_TABLET_6_7am',\n",
        " 'SLx_pre_VIDGAMES_6_7am',\n",
        " 'SLx_pre_PHONE_7_8am',\n",
        " 'SLx_pre_COMPUTER_7_8am',\n",
        " 'SLx_pre_TABLET_7_8am',\n",
        " 'SLx_pre_VIDGAMES_7_8am',\n",
        " 'SLx_pre_PHONE_8_9am',\n",
        " 'SLx_pre_COMPUTER_8_9am',\n",
        " 'SLx_pre_TABLET_8_9am',\n",
        " 'SLx_pre_VIDGAMES_8_9am',\n",
        " 'SLx_pre_PHONE_9_10am',\n",
        " 'SLx_pre_COMPUTER_9_10am',\n",
        " 'SLx_pre_TABLET_9_10am',\n",
        " 'SLx_pre_VIDGAMES_9_10am',\n",
        " 'SLx_pre_PHONE_10_11am',\n",
        " 'SLx_pre_COMPUTER_10_11am',\n",
        " 'SLx_pre_TABLET_10_11am',\n",
        " 'SLx_pre_VIDGAMES_10_11am',\n",
        " 'SLx_pre_PHONE_11_12pm',\n",
        " 'SLx_pre_COMPUTER_11_12pm',\n",
        " 'SLx_pre_TABLET_11_12pm',\n",
        " 'SLx_pre_VIDGAMES_11_12pm',\n",
        " 'SLx_pre_PHONE_12_1pm',\n",
        " 'SLx_pre_COMPUTER_12_1pm',\n",
        " 'SLx_pre_TABLET_12_1pm',\n",
        " 'SLx_pre_VIDGAMES_12_1pm',\n",
        " 'SLx_pre_PHONE_1_2pm',\n",
        " 'SLx_pre_COMPUTER_1_2pm',\n",
        " 'SLx_pre_TABLET_1_2pm',\n",
        " 'SLx_pre_VIDGAMES_1_2pm',\n",
        " 'SLx_pre_PHONE_2_3pm',\n",
        " 'SLx_pre_COMPUTER_2_3pm',\n",
        " 'SLx_pre_TABLET_2_3pm',\n",
        " 'SLx_pre_VIDGAMES_2_3pm',\n",
        " 'SLx_pre_PHONE_3_4pm',\n",
        " 'SLx_pre_COMPUTER_3_4pm',\n",
        " 'SLx_pre_TABLET_3_4pm',\n",
        " 'SLx_pre_VIDGAMES_3_4pm',\n",
        " 'SLx_pre_PHONE_4_5pm',\n",
        " 'SLx_pre_COMPUTER_4_5pm',\n",
        " 'SLx_pre_TABLET_4_5pm',\n",
        " 'SLx_pre_VIDGAMES_4_5pm',\n",
        " 'SLx_pre_PHONE_5_6pm',\n",
        " 'SLx_pre_COMPUTER_5_6pm',\n",
        " 'SLx_pre_TABLET_5_6pm',\n",
        " 'SLx_pre_VIDGAMES_5_6pm',\n",
        " 'SLx_pre_PHONE_6_7pm',\n",
        " 'SLx_pre_COMPUTER_6_7pm',\n",
        " 'SLx_pre_TABLET_6_7pm',\n",
        " 'SLx_pre_VIDGAMES_6_7pm',\n",
        " 'SLx_pre_PHONE_7_8pm',\n",
        " 'SLx_pre_COMPUTER_7_8pm',\n",
        " 'SLx_pre_TABLET_7_8pm',\n",
        " 'SLx_pre_VIDGAMES_7_8pm',\n",
        " 'SLx_pre_PHONE_8_9pm',\n",
        " 'SLx_pre_COMPUTER_8_9pm',\n",
        " 'SLx_pre_TABLET_8_9pm',\n",
        " 'SLx_pre_VIDGAMES_8_9pm',\n",
        " 'SLx_pre_PHONE_9_10pm',\n",
        " 'SLx_pre_COMPUTER_9_10pm',\n",
        " 'SLx_pre_TABLET_9_10pm',\n",
        " 'SLx_pre_VIDGAMES_9_10pm',\n",
        " 'SLx_pre_PHONE_10_11pm',\n",
        " 'SLx_pre_COMPUTER_10_11pm',\n",
        " 'SLx_pre_TABLET_10_11pm',\n",
        " 'SLx_pre_VIDGAMES_10_11pm',\n",
        " 'SLx_pre_PHONE_11_12am',\n",
        " 'SLx_pre_COMPUTER_11_12am',\n",
        " 'SLx_pre_TABLET_11_12am',\n",
        " 'SLx_pre_VIDGAMES_11_12am',\n",
        " 'SLx_pre_INDOORS_12_1am',\n",
        " 'SLx_pre_INDOORS_1_2am',\n",
        " 'SLx_pre_INDOORS_2_3am',\n",
        " 'SLx_pre_INDOORS_3_4am',\n",
        " 'SLx_pre_INDOORS_4_5am',\n",
        " 'SLx_pre_INDOORS_5_6am',\n",
        " 'SLx_pre_INDOORS_6_7am',\n",
        " 'SLx_pre_INDOORS_7_8am',\n",
        " 'SLx_pre_INDOORS_8_9am',\n",
        " 'SLx_pre_INDOORS_9_10am',\n",
        " 'SLx_pre_INDOORS_10_11am',\n",
        " 'SLx_pre_INDOORS_11_12pm',\n",
        " 'SLx_pre_INDOORS_12_1pm',\n",
        " 'SLx_pre_INDOORS_1_2pm',\n",
        " 'SLx_pre_INDOORS_2_3pm',\n",
        " 'SLx_pre_INDOORS_3_4pm',\n",
        " 'SLx_pre_INDOORS_4_5pm',\n",
        " 'SLx_pre_INDOORS_5_6pm',\n",
        " 'SLx_pre_INDOORS_6_7pm',\n",
        " 'SLx_pre_INDOORS_7_8pm',\n",
        " 'SLx_pre_INDOORS_8_9pm',\n",
        " 'SLx_pre_INDOORS_9_10pm',\n",
        " 'SLx_pre_INDOORS_10_11pm',\n",
        " 'SLx_pre_INDOORS_11_12am',\n",
        " 'SLx_pre_OUTDOORS_6_7am',\n",
        " 'SLx_pre_OUTDOORS_7_8am',\n",
        " 'SLx_pre_OUTDOORS_8_9am',\n",
        " 'SLx_pre_OUTDOORS_9_10am',\n",
        " 'SLx_pre_OUTDOORS_10_11am',\n",
        " 'SLx_pre_OUTDOORS_11_12pm',\n",
        " 'SLx_pre_OUTDOORS_12_1pm',\n",
        " 'SLx_pre_OUTDOORS_1_2pm',\n",
        " 'SLx_pre_OUTDOORS_2_3pm',\n",
        " 'SLx_pre_OUTDOORS_3_4pm',\n",
        " 'SLx_pre_OUTDOORS_4_5pm',\n",
        " 'SLx_pre_OUTDOORS_5_6pm',\n",
        " 'SLx_pre_OUTDOORS_6_7pm',\n",
        " 'SLx_pre_OUTDOORS_7_8pm',\n",
        " 'SLx_pre_OUTDOORS_8_9pm' ]    "
      ],
      "metadata": {
        "id": "bL5Zp-ASXQQI"
      },
      "execution_count": null,
      "outputs": []
    },
    {
      "cell_type": "code",
      "source": [
        "slx_nighttime_column_names=[\n",
        " 'SLx_PRE_ACTIVITIES_lightsoff',\n",
        " 'SLx_PRE_ACTIVITIES_tv_pleasure',\n",
        " 'SLx_PRE_ACTIVITIES_tv_arousal',\n",
        " 'SLx_PRE_ACTIVITIES_tv_type_comedy',\n",
        " 'SLx_PRE_ACTIVITIES_tv_type_horror',\n",
        " 'SLx_PRE_ACTIVITIES_tv_type_romance',\n",
        " 'SLx_PRE_ACTIVITIES_tv_type_action',\n",
        " 'SLx_PRE_ACTIVITIES_tv_type_thriller',\n",
        " 'SLx_PRE_ACTIVITIES_tv_type_fantasy',\n",
        " 'SLx_PRE_ACTIVITIES_tv_type_mystery',\n",
        " 'SLx_PRE_ACTIVITIES_tv_type_drama',\n",
        " 'SLx_PRE_ACTIVITIES_tv_type_other',\n",
        " 'SLx_PRE_ACTIVITIES_tv_type_other_specify',\n",
        " 'SLx_PRE_ACTIVITIES_internet_pleasure',\n",
        " 'SLx_PRE_ACTIVITIES_internet_arousal',\n",
        " 'SLx_PRE_ACTIVITIES_internet_platform',\n",
        " 'SLx_PRE_ACTIVITIES_phone_pleasure',\n",
        " 'SLx_PRE_ACTIVITIES_phone_arousal',\n",
        " 'SLx_PRE_ACTIVITIES_videogames_pleasure',\n",
        " 'SLx_PRE_ACTIVITIES_videogames_arousal',\n",
        " 'SLx_PRE_ACTIVITIES_read_pleasure',\n",
        " 'SLx_PRE_ACTIVITIES_read_arousal',\n",
        " 'SLx_PRE_ACTIVITIES_read_type_textbook',\n",
        " 'SLx_PRE_ACTIVITIES_read_type_horror',\n",
        " 'SLx_PRE_ACTIVITIES_read_romance',\n",
        " 'SLx_PRE_ACTIVITIES_read_type_action',\n",
        " 'SLx_PRE_ACTIVITIES_read_type_thriller',\n",
        " 'SLx_PRE_ACTIVITIES_read_type_fantasy',\n",
        " 'SLx_PRE_ACTIVITIES_read_type_mystery',\n",
        " 'SLx_PRE_ACTIVITIES_read_type_drama',\n",
        " 'SLx_PRE_ACTIVITIES_read_type_other',\n",
        " 'SLx_PRE_ACTIVITIES_read_type_other_specify',\n",
        " 'SLx_PRE_ACTIVITIES_read_format',\n",
        " 'SLx_PRE_ACTIVITIES_music_type',\n",
        " 'SLx_PRE_ACTIVITIES_music_pleasure',\n",
        " 'SLx_PRE_ACTIVITIES_music_arousal',\n",
        " 'SLx_PRE_ACTIVITIES_other_pleasure',\n",
        " 'SLx_PRE_ACTIVITIES_other_arousal',\n",
        " 'SLx_PRE_ACTIVITIES_other2_pleasure',\n",
        " 'SLx_PRE_ACTIVITIES_other2_arousal',\n",
        " 'SLx_PRE_ACTIVITIES_SleepApp',\n",
        " 'SLx_PRE_ACTIVITIES_SleepApp_name',\n",
        " 'SLx_PRE_ACTIVITIES_SleepApp_use_sounds',\n",
        " 'SLx_PRE_ACTIVITIES_SleepApp_use_stories',\n",
        " 'SLx_PRE_ACTIVITIES_SleepApp_use_relax',\n",
        " 'SLx_PRE_ACTIVITIES_SleepApp_use_midfulness',\n",
        " 'SLx_PRE_ACTIVITIES_SleepApp_use_meditation',\n",
        " 'SLx_PRE_ACTIVITIES_SleepApp_use_other',\n",
        " 'SLx_PRE_ACTIVITIES_SleepApp_use_specify',\n",
        " 'SLx_PRE_ACTIVITIES_SleepApp_duration',\n",
        " 'SLx_PRE_ACTIVITIES_SleepApp_helped',\n",
        " 'SLx_PRE_OTHER_12_1am',\n",
        " 'SLx_PRE_OTHER_1_2am',\n",
        " 'SLx_PRE_OTHER_2_3am',\n",
        " 'SLx_PRE_OTHER_3_4am',\n",
        " 'SLx_PRE_OTHER_4_5am',\n",
        " 'SLx_PRE_OTHER_5_6am',\n",
        " 'SLx_PRE_OTHER_12_6am_specify',\n",
        " 'SLx_PRE_OTHER_6_7am',\n",
        " 'SLx_PRE_OTHER_7_8am',\n",
        " 'SLx_PRE_OTHER_8_9am',\n",
        " 'SLx_PRE_OTHER_9_10am',\n",
        " 'SLx_PRE_OTHER_10_11am',\n",
        " 'SLx_PRE_OTHER_11_12pm',\n",
        " 'SLx_PRE_OTHER_6_12pm_specify',\n",
        " 'SLx_PRE_OTHER_12_1pm',\n",
        " 'SLx_PRE_OTHER_1_2pm',\n",
        " 'SLx_PRE_OTHER_2_3pm',\n",
        " 'SLx_PRE_OTHER_3_4pm',\n",
        " 'SLx_PRE_OTHER_4_5pm',\n",
        " 'SLx_PRE_OTHER_5_6pm',\n",
        " 'SLx_PRE_OTHER_12_6pm_specify',\n",
        " 'SLx_PRE_OTHER_6_7pm',\n",
        " 'SLx_PRE_OTHER_7_8pm',\n",
        " 'SLx_PRE_OTHER_8_9pm',\n",
        " 'SLx_PRE_OTHER_9_10pm',\n",
        " 'SLx_PRE_OTHER_10_11pm',\n",
        " 'SLx_PRE_OTHER_11_12am',\n",
        " 'SLx_PRE_OTHER_6_12am_specify',\n",
        " 'SLx_PRE_AWL_wear',\n",
        " 'SLx_PRE_AWL_on',\n",
        " 'SLx_PRE_AWL_off',\n",
        " 'SLx_PRE_AWL_other',\n",
        " 'SLx_PRE_AWL_time_1',\n",
        " 'SLx_PRE_AWL_duration_1',\n",
        " 'SLx_PRE_AWL_time_2',\n",
        " 'SLx_PRE_AWL_duration_2',\n",
        " 'SLx_PRE_AWL_time_3',\n",
        " 'SLx_PRE_AWL_duration_3',\n",
        " 'SLx_PRE_AWL_time_4',\n",
        " 'SLx_PRE_AWL_duration_4',\n",
        " 'SLx_PRE_POMS_A_1',\n",
        " 'SLx_PRE_POMS_A_2',\n",
        " 'SLx_PRE_POMS_A_3',\n",
        " 'SLx_PRE_POMS_A_4',\n",
        " 'SLx_PRE_POMS_A_5',\n",
        " 'SLx_PRE_POMS_A_6',\n",
        " 'SLx_PRE_POMS_A_7',\n",
        " 'SLx_PRE_POMS_A_8',\n",
        " 'SLx_PRE_POMS_A_9',\n",
        " 'SLx_PRE_POMS_A_10',\n",
        " 'SLx_PRE_POMS_A_11',\n",
        " 'SLx_PRE_POMS_A_12',\n",
        " 'SLx_PRE_POMS_A_13',\n",
        " 'SLx_PRE_POMS_A_14',\n",
        " 'SLx_PRE_POMS_A_15',\n",
        " 'SLx_PRE_POMS_A_16',\n",
        " 'SLx_PRE_POMS_A_17',\n",
        " 'SLx_PRE_POMS_A_18',\n",
        " 'SLx_PRE_POMS_A_19',\n",
        " 'SLx_PRE_POMS_A_20',\n",
        " 'SLx_PRE_POMS_A_21',\n",
        " 'SLx_PRE_POMS_A_22',\n",
        " 'SLx_PRE_POMS_A_23',\n",
        " 'SLx_PRE_POMS_A_24',\n",
        " 'SLx_PRE_POMS_A_anger',\n",
        " 'SLx_PRE_POMS_A_confusion',\n",
        " 'SLx_PRE_POMS_A_depression',\n",
        " 'SLx_PRE_POMS_A_fatigue',\n",
        " 'SLx_PRE_POMS_A_tension',\n",
        " 'SLx_PRE_POMS_A_vigour',\n",
        " 'SLx_PRE_POMS_A_total'\n",
        "]"
      ],
      "metadata": {
        "id": "dCcD2EkXb6d7"
      },
      "execution_count": null,
      "outputs": []
    },
    {
      "cell_type": "code",
      "source": [
        "for i in range(10):\n",
        "    continue"
      ],
      "metadata": {
        "id": "mhwvkkLfbyKo"
      },
      "execution_count": null,
      "outputs": []
    },
    {
      "cell_type": "markdown",
      "source": [
        "### 5. Output"
      ],
      "metadata": {
        "id": "uTDsxF4Wdp1m"
      }
    },
    {
      "cell_type": "markdown",
      "source": [
        "Here is an example of how how the results will look like"
      ],
      "metadata": {
        "id": "slPyin7Kdxw5"
      }
    },
    {
      "cell_type": "code",
      "source": [
        "mock_output\n"
      ],
      "metadata": {
        "id": "TRlG6yR9NIZd"
      },
      "execution_count": null,
      "outputs": []
    },
    {
      "cell_type": "code",
      "source": [
        "writer = pd.ExcelWriter('AVERAGE_AND_SD_OUTPUTS.xlsx')\n",
        "mock_output.to_excel(writer, index=False)\n",
        "writer.save()\n",
        "\n",
        "# files.download('mock_output.xlsx')"
      ],
      "metadata": {
        "id": "s87n8EwWhUsq"
      },
      "execution_count": null,
      "outputs": []
    }
  ]
}